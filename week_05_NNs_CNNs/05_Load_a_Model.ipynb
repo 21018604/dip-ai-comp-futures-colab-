{
  "nbformat": 4,
  "nbformat_minor": 0,
  "metadata": {
    "colab": {
      "name": "05_Load_a_Model.ipynb",
      "provenance": []
    },
    "kernelspec": {
      "name": "python3",
      "display_name": "Python 3"
    },
    "language_info": {
      "name": "python"
    }
  },
  "cells": [
    {
      "cell_type": "markdown",
      "metadata": {
        "id": "wJWr7VDxQZPm"
      },
      "source": [
        "# Loading a Saved Model\n",
        "\n",
        "This notebook will show you how to load a model which you have trained using a seperate tool such as [Lobe](https://www.lobe.ai/) or [Teachable Machine](https://teachablemachine.withgoogle.com/).\n",
        "\n",
        "First you will need to train a model using one of the tools above of course. once trained download and save your model - __Make sure you save it in a format suitable to Python! This might not be obvious at first, but carefully look at the descriptions and sample code they give you, you will soon learn to recognise the Python syntax.__\n",
        "\n",
        "It will likely get downloaded in a `.zip` file. Extract the file and then upload it to __Google Drive__. Now we are ready to get going!"
      ]
    },
    {
      "cell_type": "markdown",
      "metadata": {
        "id": "ZoSxJxXMTdfK"
      },
      "source": [
        "## Connect to Google Drive\n",
        "\n",
        "This will link you Google Drive to this Colab session so that we can save files there. Run the cell and then you will be given a link to click on in the output. It's just Google Drive asking for permission, and then it will give you a long code which you paste back in a box in the cell output, then press enter."
      ]
    },
    {
      "cell_type": "code",
      "metadata": {
        "colab": {
          "base_uri": "https://localhost:8080/"
        },
        "id": "66c4XUCbUGvT",
        "outputId": "427cd51f-d338-42f0-d8d4-1b9fbb054685"
      },
      "source": [
        "from google.colab import drive\n",
        "drive.mount('/content/drive')"
      ],
      "execution_count": 1,
      "outputs": [
        {
          "output_type": "stream",
          "name": "stdout",
          "text": [
            "Mounted at /content/drive\n"
          ]
        }
      ]
    },
    {
      "cell_type": "markdown",
      "metadata": {
        "id": "N4HmIa4EUgOs"
      },
      "source": [
        "**Easy as that!** If you open the file explorer on the left (click on the little folder icon 📁) you should see the following file structure:\n",
        "\n",
        "```\n",
        ".\n",
        "├── drive\n",
        "├── MyDrive\n",
        "│   └── < All the stuff in your Google Drive >\n",
        "└── sample_data\n",
        "```\n",
        "\n",
        "Make sure you can find your model in there... Now we can load it!\n"
      ]
    },
    {
      "cell_type": "markdown",
      "metadata": {
        "id": "v6i28e6_Wg7o"
      },
      "source": [
        "## Load the Model\n",
        "\n",
        "You need the **path** to your model which is just where it exists in your Google Drive folder. The _easiest_ and most _error free_ way of doing this is to find the `.h5` in the file explorer on the left, **right click on it** and select **Copy Path**.\n",
        "\n",
        "Now you can replace the value of `model_path` below to be what you just copied.\n",
        "\n",
        "The model path must be a **string** to make sure it is still inside quotation marks. It does not matter whether they are 'single quotes' or \"double quotes\"."
      ]
    },
    {
      "cell_type": "code",
      "metadata": {
        "id": "1Elm9XVeP6rL"
      },
      "source": [
        "import tensorflow as tf\n",
        "from keras.models import load_model\n",
        "from PIL import Image, ImageOps\n",
        "import numpy as np\n",
        "\n",
        "# **Change this to the path of your model**\n",
        "model_path = '/content/drive/MyDrive/dip-ai-comp-futures/model/keras_model.h5'\n",
        "\n",
        "# Load the model\n",
        "model = load_model(model_path, compile=False)"
      ],
      "execution_count": 10,
      "outputs": []
    },
    {
      "cell_type": "markdown",
      "metadata": {
        "id": "g0RSIZfMYIHX"
      },
      "source": [
        "## Use the Model\n",
        "\n",
        "First lets get some data to test our model with. The cell below will allow you to use your webcam to take a photo and save it to this Colab Session.\n",
        "\n",
        "> This is more for future reference but... **beware** that files saved to the _session_ are not permanent and will be lost as soon as you close this tab. If you want to save a file _forever_ make sure to move it into your Google Drive folder!"
      ]
    },
    {
      "cell_type": "code",
      "metadata": {
        "id": "LLm97xiOY__K"
      },
      "source": [
        "# From: https://ricardodeazambuja.com/deep_learning/2019/03/09/audio_and_video_google_colab/\n",
        "\n",
        "from IPython.display import HTML, Audio\n",
        "from google.colab.output import eval_js\n",
        "from base64 import b64decode\n",
        "import numpy as np\n",
        "import io\n",
        "from PIL import Image\n",
        "\n",
        "VIDEO_HTML = \"\"\"\n",
        "<video autoplay\n",
        " width=%d height=%d style='cursor: pointer;'></video>\n",
        "<script>\n",
        "\n",
        "var video = document.querySelector('video')\n",
        "\n",
        "navigator.mediaDevices.getUserMedia({ video: true })\n",
        "  .then(stream=> video.srcObject = stream)\n",
        "  \n",
        "var data = new Promise(resolve=>{\n",
        "  video.onclick = ()=>{\n",
        "    var canvas = document.createElement('canvas')\n",
        "    var [w,h] = [video.offsetWidth, video.offsetHeight]\n",
        "    canvas.width = w\n",
        "    canvas.height = h\n",
        "    canvas.getContext('2d')\n",
        "          .drawImage(video, 0, 0, w, h)\n",
        "    video.srcObject.getVideoTracks()[0].stop()\n",
        "    video.replaceWith(canvas)\n",
        "    resolve(canvas.toDataURL('image/jpeg', %f))\n",
        "  }\n",
        "})\n",
        "</script>\n",
        "\"\"\"\n",
        "def take_photo(filename='photo.jpg', quality=0.8, size=(800,600)):\n",
        "  display(HTML(VIDEO_HTML % (size[0],size[1],quality)))\n",
        "  data = eval_js(\"data\")\n",
        "  binary = b64decode(data.split(',')[1])\n",
        "  f = io.BytesIO(binary)\n",
        "  #return np.asarray(Image.open(f))\n",
        "  with open(filename, 'wb') as f:\n",
        "    f.write(binary)\n",
        "  return len(binary)"
      ],
      "execution_count": 104,
      "outputs": []
    },
    {
      "cell_type": "markdown",
      "metadata": {
        "id": "V3OULYBFj5A5"
      },
      "source": [
        "Run the cell below and *click on the video* to save a photo called `photo.jpg`."
      ]
    },
    {
      "cell_type": "code",
      "metadata": {
        "colab": {
          "base_uri": "https://localhost:8080/",
          "height": 621
        },
        "id": "WAzRYMCzZDtc",
        "outputId": "2974684d-fc8d-4c52-e94d-1c22b41351da"
      },
      "source": [
        "img = take_photo() # click"
      ],
      "execution_count": 105,
      "outputs": [
        {
          "output_type": "display_data",
          "data": {
            "text/html": [
              "\n",
              "<video autoplay\n",
              " width=800 height=600 style='cursor: pointer;'></video>\n",
              "<script>\n",
              "\n",
              "var video = document.querySelector('video')\n",
              "\n",
              "navigator.mediaDevices.getUserMedia({ video: true })\n",
              "  .then(stream=> video.srcObject = stream)\n",
              "  \n",
              "var data = new Promise(resolve=>{\n",
              "  video.onclick = ()=>{\n",
              "    var canvas = document.createElement('canvas')\n",
              "    var [w,h] = [video.offsetWidth, video.offsetHeight]\n",
              "    canvas.width = w\n",
              "    canvas.height = h\n",
              "    canvas.getContext('2d')\n",
              "          .drawImage(video, 0, 0, w, h)\n",
              "    video.srcObject.getVideoTracks()[0].stop()\n",
              "    video.replaceWith(canvas)\n",
              "    resolve(canvas.toDataURL('image/jpeg', 0.800000))\n",
              "  }\n",
              "})\n",
              "</script>\n"
            ],
            "text/plain": [
              "<IPython.core.display.HTML object>"
            ]
          },
          "metadata": {}
        }
      ]
    },
    {
      "cell_type": "markdown",
      "metadata": {
        "id": "Fr_oUdwdkAVu"
      },
      "source": [
        "Finally we get to run the model. We will use the photo we just took and run it through the model.."
      ]
    },
    {
      "cell_type": "code",
      "metadata": {
        "colab": {
          "base_uri": "https://localhost:8080/"
        },
        "id": "FcllnXRmXx5-",
        "outputId": "23236326-ff49-4789-d616-3dc2a5d7f650"
      },
      "source": [
        "# Create the array of the right shape to feed into the keras model\n",
        "# The 'length' or number of images you can put into the array is\n",
        "# determined by the first position in the shape tuple, in this case 1.\n",
        "data = np.ndarray(shape=(1, 224, 224, 3), dtype=np.float32)\n",
        "# Replace this with the path to your image\n",
        "image = Image.open('photo.jpg')\n",
        "#resize the image to a 224x224 with the same strategy as in TM2:\n",
        "#resizing the image to be at least 224x224 and then cropping from the center\n",
        "size = (224, 224)\n",
        "image = ImageOps.fit(image, size, Image.ANTIALIAS)\n",
        "\n",
        "#turn the image into a numpy array\n",
        "image_array = np.asarray(image)\n",
        "# Normalize the image\n",
        "normalized_image_array = (image_array.astype(np.float32) / 127.0) - 1\n",
        "# Load the image into the array\n",
        "data[0] = normalized_image_array\n",
        "\n",
        "# run the inference\n",
        "prediction = model.predict(data)\n",
        "print(f\"The models prediction is... {prediction}\")"
      ],
      "execution_count": 109,
      "outputs": [
        {
          "output_type": "stream",
          "name": "stdout",
          "text": [
            "The models prediction is... [[0.9972223  0.00277766]]\n"
          ]
        }
      ]
    },
    {
      "cell_type": "markdown",
      "metadata": {
        "id": "HyLZmLFEkF62"
      },
      "source": [
        "The model gave us a prediction... but it's just two numbers? The number represent the _probability_ of the image representing each of the classes in your model. In my case there are two classes, and I need to assign that probability to an actual class label:"
      ]
    },
    {
      "cell_type": "code",
      "metadata": {
        "colab": {
          "base_uri": "https://localhost:8080/"
        },
        "id": "EIDAkAPOinjl",
        "outputId": "ead28154-8ef8-45ef-e8ec-d77d4a998df1"
      },
      "source": [
        "classes = ['Person', 'Mug']\n",
        "\n",
        "choice = np.argmax(prediction) # Get the highest predicted value\n",
        "output = classes[choice]\n",
        "\n",
        "print(output)"
      ],
      "execution_count": 113,
      "outputs": [
        {
          "output_type": "stream",
          "name": "stdout",
          "text": [
            "Person\n"
          ]
        }
      ]
    },
    {
      "cell_type": "markdown",
      "metadata": {
        "id": "uqdFl3m6lKiX"
      },
      "source": [
        "# Nice."
      ]
    },
    {
      "cell_type": "code",
      "metadata": {
        "id": "66wShEa1lLY_"
      },
      "source": [
        ""
      ],
      "execution_count": null,
      "outputs": []
    }
  ]
}